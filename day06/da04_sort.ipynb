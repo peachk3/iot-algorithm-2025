{
 "cells": [
  {
   "cell_type": "markdown",
   "metadata": {},
   "source": [
    "### 정렬(Sort)\n",
    "\n",
    "<img src=\"https://upload.wikimedia.org/wikipedia/commons/thumb/8/8e/Merge_sort_animation.gif/220px-Merge_sort_animation.gif\" width=\"400\">\n",
    "\n",
    "- 여러 데이터를 작은 값부터 큰 값으로 또는 큰 값부터 작은 값으로 순서에 맞게 정리하는 것\n",
    "    - 오름차순(Ascending sort)\n",
    "    - 내림차순(Descending sort)\n",
    "\n",
    "<!-- 표만들때 :--(왼쪽정렬) --:(오른쪽정렬) :--:(중앙정렬)-->\n",
    "|종류|평균|최선|최악|\n",
    "|:--|:--:|--:|:--|\n",
    "|선택정렬|$O(n^2)$|$O(n^2)$|$O(n^2)$|\n",
    "|삽입|$O(n^2)$|$O(n^2)$|$O(n^2)$|\n",
    "|버블|$O(n^2)$|$O(n)$|$O(n^2)$|\n",
    "|합병|$O(n log n)$|$O(n log n)$|$O(n log n)$|\n",
    "|퀵|$O(n log n)$|$O(n log n)$|$O(n^2)$|\n",
    "|힙|$O(n log n)$|$O(n log n)$|$O(n log n)$|\n",
    "|쉘|$O(n^{1.25})$|$O(n^{1.25})$|$O(n^{1.25})$|\n",
    "|기수|$O(dn)$|$O(dn)$|$O(dn)$|"
   ]
  },
  {
   "cell_type": "markdown",
   "metadata": {},
   "source": [
    "#### 선택정렬\n",
    "\n",
    "- 여러 데이터 중 가장 작은 값을 뽑는 과정을 반복하여 정렬"
   ]
  },
  {
   "cell_type": "code",
   "execution_count": null,
   "metadata": {},
   "outputs": [],
   "source": [
    "def findMindIdx(ary):\n",
    "    minIdx = 0 # 배열의 첫 번째값(0번째) 최솟값이라고 가정\n",
    "    for i in range(1, len(ary)): # 배열의 두 번째 (1번째)부터 마지막까지 반복\n",
    "        if ary[minIdx] > ary[i]: # 배열의 i번째 값과 현재 최솟값 비교 -> 배열의 i번째 값 < 현재 최솟값 => i를 현재 최솟갑 위치로 지정\n",
    "            minIdx = i \n",
    "\n",
    "    return minIdx # 찾아낸 배열의 최솟값 위치 반환"
   ]
  },
  {
   "cell_type": "code",
   "execution_count": 3,
   "metadata": {},
   "outputs": [
    {
     "name": "stdout",
     "output_type": "stream",
     "text": [
      "최소값 인덱스 : 2\n",
      "최소값 : 22\n"
     ]
    }
   ],
   "source": [
    "testAry = [55, 88, 22, 33, 77]\n",
    "minPos = findMindIdx(testAry)\n",
    "\n",
    "print(f'최소값 인덱스 : {minPos}')\n",
    "print(f'최소값 : {testAry[minPos]}')"
   ]
  },
  {
   "cell_type": "code",
   "execution_count": null,
   "metadata": {},
   "outputs": [
    {
     "name": "stdout",
     "output_type": "stream",
     "text": [
      "정렬 전 -> [188, 162, 168, 120, 50, 150, 177, 105]\n",
      "정렬 후 -> [50, 105, 120, 150, 162, 168, 177, 188]\n"
     ]
    }
   ],
   "source": [
    "## 변수 선언\n",
    "#[('아빠', 188), ('할머니', 162), ..., ('동생', 105)]\n",
    "before = [188, 162, 168, 120, 50, 150, 177, 105]\n",
    "after = []\n",
    "\n",
    "## 메인 코드\n",
    "print(f'정렬 전 -> {before}')\n",
    "\n",
    "for _ in range(len(before)): # 8번 (배열의 전체 개수만큼 반복)\n",
    "    minPos = findMindIdx(before) # before에서 최솟값 위치 찾고\n",
    "    after.append(before[minPos]) # after의 맨 뒤에 추가\n",
    "    del(before[minPos]) # after에 넣은 값을 before 에서 제거\n",
    "\n",
    "print(f'정렬 후 -> {after}')"
   ]
  },
  {
   "cell_type": "markdown",
   "metadata": {},
   "source": [
    "#### 데이터 교환에서 가장 중요한 swap\n",
    "- 변수가 두 개 있을때 하나의 값을 다른 곳으로 할당할려면 임시 변수가 필요\n",
    "\n",
    "    ```python\n",
    "    def swap(x, y):\n",
    "        temp = x\n",
    "        x = y\n",
    "        y = temp\n",
    "    ```"
   ]
  },
  {
   "cell_type": "markdown",
   "metadata": {},
   "source": [
    "#### 변수 하나로 선택정렬"
   ]
  },
  {
   "cell_type": "code",
   "execution_count": null,
   "metadata": {},
   "outputs": [
    {
     "name": "stdout",
     "output_type": "stream",
     "text": [
      "정렬 전 -> [188, 162, 168, 120, 50, 150, 177, 105]\n",
      "정렬 중 => [50, 162, 168, 120, 188, 150, 177, 105]\n",
      "정렬 중 => [50, 105, 168, 120, 188, 150, 177, 162]\n",
      "정렬 중 => [50, 105, 120, 168, 188, 150, 177, 162]\n",
      "정렬 중 => [50, 105, 120, 150, 188, 168, 177, 162]\n",
      "정렬 중 => [50, 105, 120, 150, 162, 168, 177, 188]\n",
      "정렬 중 => [50, 105, 120, 150, 162, 168, 177, 188]\n",
      "정렬 중 => [50, 105, 120, 150, 162, 168, 177, 188]\n",
      "정렬 후 -> [50, 105, 120, 150, 162, 168, 177, 188]\n"
     ]
    }
   ],
   "source": [
    "def sortSelection(ary):\n",
    "    n = len(ary) # 배열의 길이 받기\n",
    "    for i in range(0, n-1):\n",
    "        minIdx = i # 맨 앞 데이터를 최솟값 위치로 지정\n",
    "        for j in range(i+1, n): # 각 사이클의 두 번째 값부터 최솟값과 비교\n",
    "            if ary[minIdx] > ary[j]:\n",
    "                minIdx = j\n",
    "\n",
    "        tmp = ary[i] # 첫 번째 값과 찾은 최솟값 교환\n",
    "        ary[i] = ary[minIdx]\n",
    "        ary[minIdx] = tmp\n",
    "\n",
    "        print(f'정렬 중 => {ary}')\n",
    "    \n",
    "    return ary\n",
    "\n",
    "dataAry = [188, 162, 168, 120, 50, 150, 177, 105]\n",
    "\n",
    "print(f'정렬 전 -> {dataAry}')\n",
    "dataAry = sortSelection(dataAry)\n",
    "print(f'정렬 후 -> {dataAry}')"
   ]
  },
  {
   "cell_type": "markdown",
   "metadata": {},
   "source": [
    "#### 삽입 정렬\n",
    "- 기존 데이터 중에 자신의 위치를 찾아 데이터를 삽입하는 정렬 방식"
   ]
  },
  {
   "cell_type": "markdown",
   "metadata": {},
   "source": [
    "- 삽입될 위치를 찾는 함수"
   ]
  },
  {
   "cell_type": "code",
   "execution_count": null,
   "metadata": {},
   "outputs": [],
   "source": [
    "def findInsertIdx(ary, data): # ary - 정렬된 배열 / data - 삽입할 데이터\n",
    "    findIdx = -1 # 초깃값-> 없는 위치로 (배열의 인덱스 0보다 앞)\n",
    "    for i in range(0, len(ary)):\n",
    "        if ary[i] > data: # 데이터보다 작으면 앞에 삽입\n",
    "            findIdx = i\n",
    "            break\n",
    "    \n",
    "    if findIdx == -1: # 큰 값을 못 찾음 -> 제일 마지막 위치\n",
    "        return len(ary)\n",
    "    else:\n",
    "        return findIdx\n"
   ]
  },
  {
   "cell_type": "code",
   "execution_count": 22,
   "metadata": {},
   "outputs": [
    {
     "name": "stdout",
     "output_type": "stream",
     "text": [
      "삽입할 위치 -> 0\n"
     ]
    }
   ],
   "source": [
    "testAry = []\n",
    "print(f'삽입할 위치 -> {findInsertIdx(testAry, 55)}')"
   ]
  },
  {
   "cell_type": "code",
   "execution_count": 16,
   "metadata": {},
   "outputs": [
    {
     "name": "stdout",
     "output_type": "stream",
     "text": [
      "삽입할 위치 -> 1\n"
     ]
    }
   ],
   "source": [
    "testAry = [33, 77, 88]\n",
    "print(f'삽입할 위치 -> {findInsertIdx(testAry, 55)}')"
   ]
  },
  {
   "cell_type": "code",
   "execution_count": 17,
   "metadata": {},
   "outputs": [
    {
     "name": "stdout",
     "output_type": "stream",
     "text": [
      "삽입할 위치 -> 4\n"
     ]
    }
   ],
   "source": [
    "testAry =  [33, 55, 77, 88]\n",
    "print(f'삽입할 위치 -> {findInsertIdx(testAry, 100)}')"
   ]
  },
  {
   "cell_type": "markdown",
   "metadata": {},
   "source": [
    "- 삽입 정렬 구현"
   ]
  },
  {
   "cell_type": "code",
   "execution_count": 18,
   "metadata": {},
   "outputs": [
    {
     "name": "stdout",
     "output_type": "stream",
     "text": [
      "정렬 전 -> [188, 162, 168, 120, 50, 150, 177, 105]\n",
      "정렬 중 => [188]\n",
      "정렬 중 => [162, 188]\n",
      "정렬 중 => [162, 168, 188]\n",
      "정렬 중 => [120, 162, 168, 188]\n",
      "정렬 중 => [50, 120, 162, 168, 188]\n",
      "정렬 중 => [50, 120, 150, 162, 168, 188]\n",
      "정렬 중 => [50, 120, 150, 162, 168, 177, 188]\n",
      "정렬 중 => [50, 105, 120, 150, 162, 168, 177, 188]\n",
      "정렬 후 -> [50, 105, 120, 150, 162, 168, 177, 188]\n"
     ]
    }
   ],
   "source": [
    "# 변수\n",
    "before = [188, 162, 168, 120, 50, 150, 177, 105]\n",
    "after = []\n",
    "\n",
    "# 메인코드\n",
    "print(f'정렬 전 -> {before}')\n",
    "for i in range(len(before)):\n",
    "    data = before[i]\n",
    "    insPos = findInsertIdx(after, data)\n",
    "    after.insert(insPos, data)\n",
    "    print(f'정렬 중 => {after}')\n",
    "\n",
    "print(f'정렬 후 -> {after}')"
   ]
  },
  {
   "cell_type": "markdown",
   "metadata": {},
   "source": [
    "- 변수 하나로 삽입 정렬"
   ]
  },
  {
   "cell_type": "code",
   "execution_count": 4,
   "metadata": {},
   "outputs": [
    {
     "name": "stdout",
     "output_type": "stream",
     "text": [
      "정렬 전 -> [188, 162, 168, 120, 50, 150, 177, 105]\n",
      "정렬 중 => [162, 188, 168, 120, 50, 150, 177, 105]\n",
      "정렬 중 => [162, 168, 188, 120, 50, 150, 177, 105]\n",
      "정렬 중 => [120, 162, 168, 188, 50, 150, 177, 105]\n",
      "정렬 중 => [50, 120, 162, 168, 188, 150, 177, 105]\n",
      "정렬 중 => [50, 120, 150, 162, 168, 188, 177, 105]\n",
      "정렬 중 => [50, 120, 150, 162, 168, 177, 188, 105]\n",
      "정렬 중 => [50, 105, 120, 150, 162, 168, 177, 188]\n",
      "총 처리 횟수 : 26\n",
      "정렬 후 -> [50, 105, 120, 150, 162, 168, 177, 188]\n"
     ]
    }
   ],
   "source": [
    "def sortInsertion(ary):\n",
    "    n = len(ary)\n",
    "    for end in range(1, n): # end -> 1.... n-1\n",
    "        for cur in range(end, 0, -1): # cur -> 거꾸로\n",
    "            if ary[cur - 1] > ary[cur]:\n",
    "                # tmp = ary[cur]\n",
    "                # ary[cur] = ary[cur - 1]\n",
    "                # ary[cur - 1] = tmp\n",
    "                # tmp 변수 만들지 않고 바로 변경 가능할 로직(파이썬에 존재)\n",
    "                ary[cur - 1], ary[cur] = ary[cur], ary[cur - 1]\n",
    "\n",
    "        print(f'정렬 중 => {ary}')\n",
    "    \n",
    "    return ary\n",
    "\n",
    "dataAry = [188, 162, 168, 120, 50, 150, 177, 105]\n",
    "\n",
    "# 메인코드\n",
    "print(f'정렬 전 -> {dataAry}')\n",
    "dataAry = sortInsertion(dataAry)\n",
    "print(f'정렬 후 -> {dataAry}')"
   ]
  },
  {
   "cell_type": "markdown",
   "metadata": {},
   "source": [
    "#### 버블 정렬\n",
    "\n",
    "- 앞 뒤 데이터를 비교해서 큰 값을 뒤로 보내면서 정렬하는 방식 (뒤에서부터 고정됨)\n",
    "- 정렬하는 모양이 거품처럼 생김"
   ]
  },
  {
   "cell_type": "code",
   "execution_count": 6,
   "metadata": {},
   "outputs": [],
   "source": [
    "import random"
   ]
  },
  {
   "cell_type": "code",
   "execution_count": 7,
   "metadata": {},
   "outputs": [
    {
     "name": "stdout",
     "output_type": "stream",
     "text": [
      "정렬 전 -> [167, 56, 93, 90, 92, 102, 128, 94, 180, 112, 146, 188, 175, 139, 71, 103, 78, 166]\n",
      "정렬 중 => [56, 93, 90, 92, 102, 128, 94, 167, 112, 146, 180, 175, 139, 71, 103, 78, 166, 188]\n",
      "정렬 중 => [56, 90, 92, 93, 102, 94, 128, 112, 146, 167, 175, 139, 71, 103, 78, 166, 180, 188]\n",
      "정렬 중 => [56, 90, 92, 93, 94, 102, 112, 128, 146, 167, 139, 71, 103, 78, 166, 175, 180, 188]\n",
      "정렬 중 => [56, 90, 92, 93, 94, 102, 112, 128, 146, 139, 71, 103, 78, 166, 167, 175, 180, 188]\n",
      "정렬 중 => [56, 90, 92, 93, 94, 102, 112, 128, 139, 71, 103, 78, 146, 166, 167, 175, 180, 188]\n",
      "정렬 중 => [56, 90, 92, 93, 94, 102, 112, 128, 71, 103, 78, 139, 146, 166, 167, 175, 180, 188]\n",
      "정렬 중 => [56, 90, 92, 93, 94, 102, 112, 71, 103, 78, 128, 139, 146, 166, 167, 175, 180, 188]\n",
      "정렬 중 => [56, 90, 92, 93, 94, 102, 71, 103, 78, 112, 128, 139, 146, 166, 167, 175, 180, 188]\n",
      "정렬 중 => [56, 90, 92, 93, 94, 71, 102, 78, 103, 112, 128, 139, 146, 166, 167, 175, 180, 188]\n",
      "정렬 중 => [56, 90, 92, 93, 71, 94, 78, 102, 103, 112, 128, 139, 146, 166, 167, 175, 180, 188]\n",
      "정렬 중 => [56, 90, 92, 71, 93, 78, 94, 102, 103, 112, 128, 139, 146, 166, 167, 175, 180, 188]\n",
      "정렬 중 => [56, 90, 71, 92, 78, 93, 94, 102, 103, 112, 128, 139, 146, 166, 167, 175, 180, 188]\n",
      "정렬 중 => [56, 71, 90, 78, 92, 93, 94, 102, 103, 112, 128, 139, 146, 166, 167, 175, 180, 188]\n",
      "정렬 중 => [56, 71, 78, 90, 92, 93, 94, 102, 103, 112, 128, 139, 146, 166, 167, 175, 180, 188]\n",
      "정렬 중 => [56, 71, 78, 90, 92, 93, 94, 102, 103, 112, 128, 139, 146, 166, 167, 175, 180, 188]\n",
      "정렬 중 => [56, 71, 78, 90, 92, 93, 94, 102, 103, 112, 128, 139, 146, 166, 167, 175, 180, 188]\n",
      "정렬 중 => [56, 71, 78, 90, 92, 93, 94, 102, 103, 112, 128, 139, 146, 166, 167, 175, 180, 188]\n",
      "처리 횟수 79\n",
      "정렬 후 -> [56, 71, 78, 90, 92, 93, 94, 102, 103, 112, 128, 139, 146, 166, 167, 175, 180, 188]\n"
     ]
    }
   ],
   "source": [
    "# 함수 정의\n",
    "def sortBubble(ary):\n",
    "    n = len(ary)\n",
    "    for end in range(n-1, 0, -1):\n",
    "        for cur in range(0, end):\n",
    "            if (ary[cur] > ary[cur+1]):\n",
    "                ary[cur], ary[cur+1] = ary[cur+1], ary[cur]\n",
    "        \n",
    "        print(f'정렬 중 => {ary}')\n",
    "    \n",
    "    return ary\n",
    "\n",
    "# dataAry = [188, 162, 168, 120, 50, 150, 177, 105]\n",
    "dataAry = [random.randint(50, 190) for _ in range(random.randint(8, 20))]\n",
    "# dataAry = [50, 105, 120, 188, 150, 162, 168, 177]\n",
    "\n",
    "\n",
    "print(f'정렬 전 -> {dataAry}')\n",
    "dataAry = sortBubble(dataAry)\n",
    "print(f'정렬 후 -> {dataAry}')"
   ]
  },
  {
   "cell_type": "markdown",
   "metadata": {},
   "source": [
    "##### 버블 정렬 중\n",
    "- 데이터가 거의 정렬이 되고, 한 두 개의 데이터가 튀었을 때 개선 방법\n",
    "- 한 사이클을 마쳤을 때 모두 정렬이 되면 더 이상 반복문을 처리하지 않고 빠져나감"
   ]
  },
  {
   "cell_type": "code",
   "execution_count": null,
   "metadata": {},
   "outputs": [
    {
     "name": "stdout",
     "output_type": "stream",
     "text": [
      "정렬 전 -> [50, 105, 120, 188, 150, 162, 168, 177]\n",
      "정렬 중 => [50, 105, 120, 150, 162, 168, 177, 188]\n",
      "정렬 중 => [50, 105, 120, 150, 162, 168, 177, 188]\n",
      "정렬 후 -> [50, 105, 120, 150, 162, 168, 177, 188]\n"
     ]
    }
   ],
   "source": [
    "## 버블소트 개선함수\n",
    "def sortBubbleA(ary):\n",
    "    n = len(ary)\n",
    "\n",
    "    for end in range(n-1, 0, -1):\n",
    "        changYN = False\n",
    "        # print(f'# 사이클 -> {ary}')\n",
    "        for cur in range(0, end):\n",
    "            if ary[cur] > ary[cur + 1]:\n",
    "                ary[cur], ary[cur+1] = ary[cur+1], ary[cur]\n",
    "                changYN = True\n",
    "\n",
    "        print(f'정렬 중 => {ary}')\n",
    "\n",
    "        if not changYN:\n",
    "            break\n",
    "    return ary\n",
    "\n",
    "# 전역 변수\n",
    "dataAry = [50, 105, 120, 188, 150, 162, 168, 177]\n",
    "\n",
    "print(f'정렬 전 -> {dataAry}')\n",
    "dataAry = sortBubbleA(dataAry)\n",
    "print(f'정렬 후 -> {dataAry}')"
   ]
  },
  {
   "cell_type": "markdown",
   "metadata": {},
   "source": [
    "- 다른 정렬은 데이터가 거의 정렬이 다 되어 있어도 횟수만큼 동작 $O(n^2)$\n",
    "- 버블 정렬은 데이터가 거의 정렬되어있으면 반복획수를 줄일 수 있음 $O(n)$"
   ]
  },
  {
   "cell_type": "markdown",
   "metadata": {},
   "source": [
    "#### 퀵 정렬\n",
    "- 전체 데이터에서 기준값을 잡고, 기준값보다 작은 값은 왼쪽 그룹으로, 큰 값은 오른쪽 그룹으로 나누어 작업을 반복해서 정렬"
   ]
  },
  {
   "cell_type": "code",
   "execution_count": 15,
   "metadata": {},
   "outputs": [
    {
     "name": "stdout",
     "output_type": "stream",
     "text": [
      "정렬 전 -> [188, 162, 168, 120, 50, 150, 177, 105]\n",
      "처리 횟수 19\n",
      "정렬 후 -> [50, 105, 120, 150, 162, 168, 177, 188]\n"
     ]
    }
   ],
   "source": [
    "# 함수정의\n",
    "count = 0\n",
    "\n",
    "def sortQuick(ary):\n",
    "    global count\n",
    "\n",
    "    n = len(ary)\n",
    "    if n <= 1: # 정렬할 리스트 개수가 1개 이하면\n",
    "        return ary\n",
    "    \n",
    "    pivot = ary[n // 2] # 중간값을 기준값으로 설정\n",
    "    leftAry, rightAry = [], []\n",
    "\n",
    "    for num in ary:\n",
    "        if num < pivot: # 기준값보다 작으면 왼쪽 그룹\n",
    "            leftAry.append(num)\n",
    "            count += 1\n",
    "        elif num > pivot: # 오른쪽 그룹으로\n",
    "            rightAry.append(num)\n",
    "            count += 1\n",
    "\n",
    "    return sortQuick(leftAry) + [pivot] + sortQuick(rightAry) # 재귀호출\n",
    "\n",
    "# 변수\n",
    "dataAry = [188, 150, 168, 162, 105, 120, 177, 50]\n",
    "\n",
    "# 메인코드\n",
    "print(f'정렬 전 -> {dataAry}')\n",
    "dataAry = sortQuick(dataAry)\n",
    "print(f'처리 횟수 {count}')\n",
    "print(f'정렬 후 -> {dataAry}')"
   ]
  },
  {
   "cell_type": "markdown",
   "metadata": {},
   "source": [
    "- 중복값을 고려한 퀵 정렬"
   ]
  },
  {
   "cell_type": "code",
   "execution_count": 17,
   "metadata": {},
   "outputs": [
    {
     "name": "stdout",
     "output_type": "stream",
     "text": [
      "정렬 전 -> [120, 120, 188, 150, 168, 50, 50, 162, 105, 120, 177, 50]\n",
      "정렬 후 -> [50, 50, 50, 105, 120, 120, 120, 150, 162, 168, 177, 188]\n"
     ]
    }
   ],
   "source": [
    "def sortQuickD(ary):\n",
    "    n = len(ary)\n",
    "    if n <= 1: \n",
    "        return ary\n",
    "    pivot = ary[n // 2]\n",
    "    leftAry, midAry, rightAry = [], [], []\n",
    "\n",
    "    for num in ary:\n",
    "        if num < pivot:\n",
    "            leftAry.append(num)\n",
    "        elif num > pivot:\n",
    "            rightAry.append(num)\n",
    "        else:\n",
    "            midAry.append(num)\n",
    "    \n",
    "    return sortQuickD(leftAry) + midAry + sortQuickD(rightAry)\n",
    "\n",
    "# 변수\n",
    "dataAry =[120, 120, 188, 150, 168, 50, 50, 162, 105, 120, 177, 50]\n",
    "\n",
    "print(f'정렬 전 -> {dataAry}')\n",
    "dataAry = sortQuickD(dataAry)\n",
    "print(f'정렬 후 -> {dataAry}')\n"
   ]
  },
  {
   "cell_type": "markdown",
   "metadata": {},
   "source": [
    "- 퀵정렬 일반 구현"
   ]
  },
  {
   "cell_type": "code",
   "execution_count": 23,
   "metadata": {},
   "outputs": [
    {
     "name": "stdout",
     "output_type": "stream",
     "text": [
      "정렬 전 -> [188, 140, 168, 162, 105, 120, 177, 50]\n",
      "정렬 중 -> [50, 140, 168, 162, 105, 120, 177, 188]\n",
      "정렬 중 -> [50, 140, 120, 162, 105, 168, 177, 188]\n",
      "정렬 중 -> [50, 140, 120, 105, 162, 168, 177, 188]\n",
      "정렬 중 -> [50, 105, 120, 140, 162, 168, 177, 188]\n",
      "정렬 중 -> [50, 105, 120, 140, 162, 168, 177, 188]\n",
      "정렬 중 -> [50, 105, 120, 140, 162, 168, 177, 188]\n",
      "정렬 중 -> [50, 105, 120, 140, 162, 168, 177, 188]\n",
      "정렬 중 -> [50, 105, 120, 140, 162, 168, 177, 188]\n",
      "정렬 중 -> [50, 105, 120, 140, 162, 168, 177, 188]\n",
      "총 처리 횟수 => 9\n",
      "정렬 후 -> [50, 105, 120, 140, 162, 168, 177, 188]\n"
     ]
    }
   ],
   "source": [
    "count = 0\n",
    "def sortQuickN(ary, start, end):\n",
    "    global count\n",
    "    if end <= start: return # 재귀호출 종료 조건\n",
    "    \n",
    "    # 시작점\n",
    "    low = start\n",
    "    high = end \n",
    "\n",
    "    pivot = ary[(low + high) // 2] # 리스트 중간값을 기준값으로\n",
    "    while low <= high:\n",
    "        while ary[low] < pivot:\n",
    "            low += 1\n",
    "        while ary[high] > pivot:\n",
    "            high -= 1\n",
    "        if low <= high:\n",
    "            ary[low], ary[high] = ary[high], ary[low] # swap\n",
    "            low, high = low + 1, high - 1\n",
    "            count += 1\n",
    "            print(f'정렬 중 -> {ary}')\n",
    "\n",
    "    mid = low # 모든 정렬을 한바퀴 돌면 low는 리스트 중간쯤 가있음\n",
    "\n",
    "    sortQuickN(ary, start, mid -1) # 왼쪽 그룹 다시 정렬 (재귀호출)\n",
    "    sortQuickN(ary, mid, end) # 오른쪽 그룹 다시 정렬 (재귀호출)\n",
    "\n",
    "# def quickSort(ary):\n",
    "#     sortQuickN(ary, 0, len(ary)-1)\n",
    "\n",
    "# 변수\n",
    "dataAry = [188, 140, 168, 162, 105, 120, 177, 50]\n",
    "\n",
    "# 메인\n",
    "print(f'정렬 전 -> {dataAry}')\n",
    "sortQuickN(dataAry, 0, len(dataAry)-1)\n",
    "print(f'총 처리 횟수 => {count}')\n",
    "print(f'정렬 후 -> {dataAry}')"
   ]
  },
  {
   "cell_type": "markdown",
   "metadata": {},
   "source": [
    "##### 퀵정렬\n",
    "- 최악의 경우는 $O(n^2)$ 이나, 평균적으로 $O(n log n)$ 연산수 가짐\n",
    "- 만약 n이 100만개 일 경우\n",
    "    - 선택 정렬, 삽입 정렬 1,000,000,000(1조) 번 처리해야 함\n",
    "    - 퀵정렬은 약 2,000만 번 처리 (1/5로 처리양 축소)"
   ]
  },
  {
   "cell_type": "markdown",
   "metadata": {},
   "source": [
    "#### 정렬 응용 예\n",
    "- 이진 탐색(Binary search)[이진 트리 사용] - 검색 알고리즘에서 활용\n",
    "- 데이터 분석 : 최소값, 최대값, 중앙값, 분위수 계산시 사용\n",
    "- 데이터베이스 SQL문 : ORDER BY 사용시 내림차순, 오른차순 사용\n",
    "- 파일 정리, 로그 정리\n",
    "- 그래픽 이미지 처리 : 이미지 픽셀 밝기 순 정렬, 히스토그램 생성\n",
    "- 네트워크 패킷 처리\n",
    "- 인공지능 머신러닝 : KNN 정렬 사용\n",
    "- 쇼핑몰 : 가격별(저렴한 순, 비싼 순) 정렬"
   ]
  }
 ],
 "metadata": {
  "kernelspec": {
   "display_name": "3.11.9",
   "language": "python",
   "name": "python3"
  },
  "language_info": {
   "codemirror_mode": {
    "name": "ipython",
    "version": 3
   },
   "file_extension": ".py",
   "mimetype": "text/x-python",
   "name": "python",
   "nbconvert_exporter": "python",
   "pygments_lexer": "ipython3",
   "version": "3.11.9"
  }
 },
 "nbformat": 4,
 "nbformat_minor": 2
}

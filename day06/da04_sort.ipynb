{
 "cells": [
  {
   "cell_type": "markdown",
   "metadata": {},
   "source": [
    "### 정렬(Sort)\n",
    "\n",
    "<img src=\"https://upload.wikimedia.org/wikipedia/commons/thumb/8/8e/Merge_sort_animation.gif/220px-Merge_sort_animation.gif\" width=\"400\">\n",
    "\n",
    "- 여러 데이터를 작은 값부터 큰 값으로 또는 큰 값부터 작은 값으로 순서에 맞게 정리하는 것\n",
    "    - 오름차순(Ascending sort)\n",
    "    - 내림차순(Descending sort)\n",
    "\n",
    "<!-- 표만들때 :--(왼쪽정렬) --:(오른쪽정렬) :--:(중앙정렬)-->\n",
    "|종류|평균|최선|최악|\n",
    "|:--|:--:|--:|:--|\n",
    "|선택정렬|$O(n^2)$|$O(n^2)$|$O(n^2)$|\n",
    "|삽입|$O(n^2)$|$O(n^2)$|$O(n^2)$|\n",
    "|버블|$O(n^2)$|$O(n)$|$O(n^2)$|\n",
    "|합병|$O(n log n)$|$O(n log n)$|$O(n log n)$|\n",
    "|퀵|$O(n log n)$|$O(n log n)$|$O(n^2)$|\n",
    "|힙|$O(n log n)$|$O(n log n)$|$O(n log n)$|\n",
    "|쉘|$O(n^{1.25})$|$O(n^{1.25})$|$O(n^{1.25})$|\n",
    "|기수|$O(dn)$|$O(dn)$|$O(dn)$|"
   ]
  },
  {
   "cell_type": "markdown",
   "metadata": {},
   "source": [
    "#### 선택정렬\n",
    "\n",
    "- 여러 데이터 중 가장 작은 값을 뽑는 과정을 반복하여 정렬"
   ]
  },
  {
   "cell_type": "code",
   "execution_count": 2,
   "metadata": {},
   "outputs": [],
   "source": [
    "def findMindIdx(ary):\n",
    "    minIdx = 0 # 맨 처음 값을 최소라고 가정\n",
    "    for i in range(1, len(ary)):\n",
    "        if ary[minIdx] > ary[i]:\n",
    "            minIdx = i\n",
    "\n",
    "    return minIdx"
   ]
  },
  {
   "cell_type": "code",
   "execution_count": 3,
   "metadata": {},
   "outputs": [
    {
     "name": "stdout",
     "output_type": "stream",
     "text": [
      "최소값 인덱스 : 2\n",
      "최소값 : 22\n"
     ]
    }
   ],
   "source": [
    "testAry = [55, 88, 22, 33, 77]\n",
    "minPos = findMindIdx(testAry)\n",
    "\n",
    "print(f'최소값 인덱스 : {minPos}')\n",
    "print(f'최소값 : {testAry[minPos]}')"
   ]
  },
  {
   "cell_type": "code",
   "execution_count": 9,
   "metadata": {},
   "outputs": [
    {
     "name": "stdout",
     "output_type": "stream",
     "text": [
      "정렬 전 -> [188, 162, 168, 120, 50, 150, 177, 105]\n",
      "정렬 후 -> [50, 105, 120, 150, 162, 168, 177, 188]\n"
     ]
    }
   ],
   "source": [
    "## 변수 선언\n",
    "#[('아빠', 188), ('할머니', 162), ..., ('동생', 105)]\n",
    "before = [188, 162, 168, 120, 50, 150, 177, 105]\n",
    "after = []\n",
    "\n",
    "## 메인 코드\n",
    "print(f'정렬 전 -> {before}')\n",
    "\n",
    "for _ in range(len(before)): # 8번\n",
    "    minPos = findMindIdx(before)\n",
    "    after.append(before[minPos])\n",
    "    del(before[minPos])\n",
    "\n",
    "print(f'정렬 후 -> {after}')"
   ]
  },
  {
   "cell_type": "markdown",
   "metadata": {},
   "source": [
    "#### 데이터 교환에서 가장 중요한 swap\n",
    "- 변수가 두 개 있을때 하나의 값을 다른 곳으로 할당할려면 임시 변수가 필요\n",
    "\n",
    "    ```python\n",
    "    def swap(x, y):\n",
    "        temp = x\n",
    "        x = y\n",
    "        y = temp\n",
    "    ```"
   ]
  },
  {
   "cell_type": "markdown",
   "metadata": {},
   "source": [
    "#### 변수 하나로 선택정렬"
   ]
  },
  {
   "cell_type": "code",
   "execution_count": 21,
   "metadata": {},
   "outputs": [
    {
     "name": "stdout",
     "output_type": "stream",
     "text": [
      "정렬 전 -> [188, 162, 168, 120, 50, 150, 177, 105]\n",
      "정렬 중 => [105, 188, 162, 168, 120, 150, 177, 50]\n",
      "정렬 중 => [105, 50, 188, 162, 168, 150, 177, 120]\n",
      "정렬 중 => [105, 50, 120, 188, 162, 150, 177, 168]\n",
      "정렬 중 => [105, 50, 120, 150, 188, 162, 177, 168]\n",
      "정렬 중 => [105, 50, 120, 150, 162, 188, 177, 168]\n",
      "정렬 중 => [105, 50, 120, 150, 162, 168, 188, 177]\n",
      "정렬 중 => [105, 50, 120, 150, 162, 168, 177, 188]\n",
      "정렬 후 -> [105, 50, 120, 150, 162, 168, 177, 188]\n"
     ]
    }
   ],
   "source": [
    "def sortSelection(ary):\n",
    "    n = len(ary)\n",
    "    for i in range(0, n-1):\n",
    "        minIdx = i\n",
    "        for j in range(i+1, n):\n",
    "            if ary[minIdx] > ary[j]:\n",
    "                minIdx = j\n",
    "\n",
    "            tmp = ary[i]\n",
    "            ary[i] = ary[minIdx]\n",
    "            ary[minIdx] = tmp\n",
    "\n",
    "        print(f'정렬 중 => {ary}')\n",
    "    \n",
    "    return ary\n",
    "\n",
    "dataAry = [188, 162, 168, 120, 50, 150, 177, 105]\n",
    "\n",
    "print(f'정렬 전 -> {dataAry}')\n",
    "dataAry = sortSelection(dataAry)\n",
    "print(f'정렬 후 -> {dataAry}')"
   ]
  },
  {
   "cell_type": "markdown",
   "metadata": {},
   "source": [
    "#### 삽입 정렬\n",
    "- 기존 데이터 중에 자신의 위치를 찾아 데이터를 삽입하는 정렬 방식"
   ]
  },
  {
   "cell_type": "markdown",
   "metadata": {},
   "source": [
    "- 삽입될 위치를 찾는 함수"
   ]
  },
  {
   "cell_type": "code",
   "execution_count": null,
   "metadata": {},
   "outputs": [],
   "source": [
    "def findInsertIdx(ary, data):\n",
    "    findIdx = -1 # 초깃값-> 없는 위치로 (배열의 인덱스 0보다 앞)\n",
    "    for i in range(0, len(ary)):\n",
    "        if ary[i] > data:\n",
    "            findIdx = i\n",
    "            break\n",
    "    \n",
    "    if findIdx == -1: # 큰 값을 못 찾음 -> 제일 마지막 위치\n",
    "        return len(ary)\n",
    "    else:\n",
    "        return findIdx\n"
   ]
  },
  {
   "cell_type": "code",
   "execution_count": 22,
   "metadata": {},
   "outputs": [
    {
     "name": "stdout",
     "output_type": "stream",
     "text": [
      "삽입할 위치 -> 0\n"
     ]
    }
   ],
   "source": [
    "testAry = []\n",
    "print(f'삽입할 위치 -> {findInsertIdx(testAry, 55)}')"
   ]
  },
  {
   "cell_type": "code",
   "execution_count": 16,
   "metadata": {},
   "outputs": [
    {
     "name": "stdout",
     "output_type": "stream",
     "text": [
      "삽입할 위치 -> 1\n"
     ]
    }
   ],
   "source": [
    "testAry = [33, 77, 88]\n",
    "print(f'삽입할 위치 -> {findInsertIdx(testAry, 55)}')"
   ]
  },
  {
   "cell_type": "code",
   "execution_count": 17,
   "metadata": {},
   "outputs": [
    {
     "name": "stdout",
     "output_type": "stream",
     "text": [
      "삽입할 위치 -> 4\n"
     ]
    }
   ],
   "source": [
    "testAry =  [33, 55, 77, 88]\n",
    "print(f'삽입할 위치 -> {findInsertIdx(testAry, 100)}')"
   ]
  },
  {
   "cell_type": "markdown",
   "metadata": {},
   "source": [
    "- 삽입 정렬 구현"
   ]
  },
  {
   "cell_type": "code",
   "execution_count": 18,
   "metadata": {},
   "outputs": [
    {
     "name": "stdout",
     "output_type": "stream",
     "text": [
      "정렬 전 -> [188, 162, 168, 120, 50, 150, 177, 105]\n",
      "정렬 중 => [188]\n",
      "정렬 중 => [162, 188]\n",
      "정렬 중 => [162, 168, 188]\n",
      "정렬 중 => [120, 162, 168, 188]\n",
      "정렬 중 => [50, 120, 162, 168, 188]\n",
      "정렬 중 => [50, 120, 150, 162, 168, 188]\n",
      "정렬 중 => [50, 120, 150, 162, 168, 177, 188]\n",
      "정렬 중 => [50, 105, 120, 150, 162, 168, 177, 188]\n",
      "정렬 후 -> [50, 105, 120, 150, 162, 168, 177, 188]\n"
     ]
    }
   ],
   "source": [
    "# 변수\n",
    "before = [188, 162, 168, 120, 50, 150, 177, 105]\n",
    "after = []\n",
    "\n",
    "# 메인코드\n",
    "print(f'정렬 전 -> {before}')\n",
    "for i in range(len(before)):\n",
    "    data = before[i]\n",
    "    insPos = findInsertIdx(after, data)\n",
    "    after.insert(insPos, data)\n",
    "    print(f'정렬 중 => {after}')\n",
    "\n",
    "print(f'정렬 후 -> {after}')"
   ]
  },
  {
   "cell_type": "markdown",
   "metadata": {},
   "source": [
    "- 변수 하나로 삽입 정렬"
   ]
  },
  {
   "cell_type": "code",
   "execution_count": null,
   "metadata": {},
   "outputs": [
    {
     "name": "stdout",
     "output_type": "stream",
     "text": [
      "정렬 전 -> [188, 162, 168, 120, 50, 150, 177, 105]\n",
      "정렬 중 => [162, 188, 168, 120, 50, 150, 177, 105]\n",
      "정렬 중 => [162, 168, 188, 120, 50, 150, 177, 105]\n",
      "정렬 중 => [120, 162, 168, 188, 50, 150, 177, 105]\n",
      "정렬 중 => [50, 120, 162, 168, 188, 150, 177, 105]\n",
      "정렬 중 => [50, 120, 150, 162, 168, 188, 177, 105]\n",
      "정렬 중 => [50, 120, 150, 162, 168, 177, 188, 105]\n",
      "정렬 중 => [50, 105, 120, 150, 162, 168, 177, 188]\n",
      "정렬 후 -> [50, 105, 120, 150, 162, 168, 177, 188]\n"
     ]
    }
   ],
   "source": [
    "def sortInsertion(ary):\n",
    "    n = len(ary)\n",
    "    for end in range(1, n): # end -> 1.... n-1\n",
    "        for cur in range(end, 0, -1): # cur -> 거꾸로\n",
    "            if ary[cur - 1] > ary[cur]:\n",
    "                # tmp = ary[cur]\n",
    "                # ary[cur] = ary[cur - 1]\n",
    "                # ary[cur - 1] = tmp\n",
    "                # tmp 변수 만들지 않고 바로 변경 가능할 로직(파이썬에 존재)\n",
    "                ary[cur - 1], ary[cur] = ary[cur], ary[cur - 1]\n",
    "\n",
    "        print(f'정렬 중 => {ary}')\n",
    "    \n",
    "    return ary\n",
    "\n",
    "dataAry = [188, 162, 168, 120, 50, 150, 177, 105]\n",
    "\n",
    "# 메인코드\n",
    "print(f'정렬 전 -> {dataAry}')\n",
    "dataAry = sortInsertion(dataAry)\n",
    "print(f'정렬 후 -> {dataAry}')"
   ]
  },
  {
   "cell_type": "markdown",
   "metadata": {},
   "source": [
    "#### 버블 정렬\n",
    "\n",
    "- 앞 뒤 데이터를 비교해서 큰 값을 뒤로 보내면서 정렬하는 방식 (뒤에서부터 고정됨)\n",
    "- 정렬하는 모양이 거품처럼 생김"
   ]
  },
  {
   "cell_type": "code",
   "execution_count": 5,
   "metadata": {},
   "outputs": [],
   "source": [
    "import random"
   ]
  },
  {
   "cell_type": "code",
   "execution_count": 9,
   "metadata": {},
   "outputs": [
    {
     "name": "stdout",
     "output_type": "stream",
     "text": [
      "정렬 전 -> [108, 117, 66, 73, 186, 68, 50, 59, 57, 84, 67, 94, 149, 121, 175, 63, 112, 108, 104]\n",
      "정렬 중 => [108, 66, 73, 117, 68, 50, 59, 57, 84, 67, 94, 149, 121, 175, 63, 112, 108, 104, 186]\n",
      "정렬 중 => [66, 73, 108, 68, 50, 59, 57, 84, 67, 94, 117, 121, 149, 63, 112, 108, 104, 175, 186]\n",
      "정렬 중 => [66, 73, 68, 50, 59, 57, 84, 67, 94, 108, 117, 121, 63, 112, 108, 104, 149, 175, 186]\n",
      "정렬 중 => [66, 68, 50, 59, 57, 73, 67, 84, 94, 108, 117, 63, 112, 108, 104, 121, 149, 175, 186]\n",
      "정렬 중 => [66, 50, 59, 57, 68, 67, 73, 84, 94, 108, 63, 112, 108, 104, 117, 121, 149, 175, 186]\n",
      "정렬 중 => [50, 59, 57, 66, 67, 68, 73, 84, 94, 63, 108, 108, 104, 112, 117, 121, 149, 175, 186]\n",
      "정렬 중 => [50, 57, 59, 66, 67, 68, 73, 84, 63, 94, 108, 104, 108, 112, 117, 121, 149, 175, 186]\n",
      "정렬 중 => [50, 57, 59, 66, 67, 68, 73, 63, 84, 94, 104, 108, 108, 112, 117, 121, 149, 175, 186]\n",
      "정렬 중 => [50, 57, 59, 66, 67, 68, 63, 73, 84, 94, 104, 108, 108, 112, 117, 121, 149, 175, 186]\n",
      "정렬 중 => [50, 57, 59, 66, 67, 63, 68, 73, 84, 94, 104, 108, 108, 112, 117, 121, 149, 175, 186]\n",
      "정렬 중 => [50, 57, 59, 66, 63, 67, 68, 73, 84, 94, 104, 108, 108, 112, 117, 121, 149, 175, 186]\n",
      "정렬 중 => [50, 57, 59, 63, 66, 67, 68, 73, 84, 94, 104, 108, 108, 112, 117, 121, 149, 175, 186]\n",
      "정렬 중 => [50, 57, 59, 63, 66, 67, 68, 73, 84, 94, 104, 108, 108, 112, 117, 121, 149, 175, 186]\n",
      "정렬 중 => [50, 57, 59, 63, 66, 67, 68, 73, 84, 94, 104, 108, 108, 112, 117, 121, 149, 175, 186]\n",
      "정렬 중 => [50, 57, 59, 63, 66, 67, 68, 73, 84, 94, 104, 108, 108, 112, 117, 121, 149, 175, 186]\n",
      "정렬 중 => [50, 57, 59, 63, 66, 67, 68, 73, 84, 94, 104, 108, 108, 112, 117, 121, 149, 175, 186]\n",
      "정렬 중 => [50, 57, 59, 63, 66, 67, 68, 73, 84, 94, 104, 108, 108, 112, 117, 121, 149, 175, 186]\n",
      "정렬 중 => [50, 57, 59, 63, 66, 67, 68, 73, 84, 94, 104, 108, 108, 112, 117, 121, 149, 175, 186]\n",
      "정렬 후 -> [50, 57, 59, 63, 66, 67, 68, 73, 84, 94, 104, 108, 108, 112, 117, 121, 149, 175, 186]\n"
     ]
    }
   ],
   "source": [
    "# 함수 정의\n",
    "def sortBubble(ary):\n",
    "    n = len(ary)\n",
    "    for end in range(n-1, 0, -1):\n",
    "        for cur in range(0, end):\n",
    "            if (ary[cur] > ary[cur+1]):\n",
    "                ary[cur], ary[cur+1] = ary[cur+1], ary[cur]\n",
    "        \n",
    "        print(f'정렬 중 => {ary}')\n",
    "    \n",
    "    return ary\n",
    "\n",
    "# dataAry = [188, 162, 168, 120, 50, 150, 177, 105]\n",
    "dataAry = [random.randint(50, 190) for _ in range(random.randint(8, 20))]\n",
    "# dataAry = [50, 105, 120, 188, 150, 162, 168, 177]\n",
    "\n",
    "\n",
    "print(f'정렬 전 -> {dataAry}')\n",
    "dataAry = sortBubble(dataAry)\n",
    "print(f'정렬 후 -> {dataAry}')"
   ]
  },
  {
   "cell_type": "markdown",
   "metadata": {},
   "source": [
    "##### 버블 정렬 중\n",
    "- 데이터가 거의 정렬이 되고, 한 두 개의 데이터가 튀었을 때 개선 방법\n",
    "- 한 사이클을 마쳤을 때 모두 정렬이 되면 더 이상 반복문을 처리하지 않고 빠져나감"
   ]
  },
  {
   "cell_type": "code",
   "execution_count": 10,
   "metadata": {},
   "outputs": [
    {
     "name": "stdout",
     "output_type": "stream",
     "text": [
      "정렬 전 -> [50, 105, 120, 188, 150, 162, 168, 177]\n",
      "정렬 중 => [50, 105, 120, 150, 162, 168, 177, 188]\n",
      "정렬 중 => [50, 105, 120, 150, 162, 168, 177, 188]\n",
      "정렬 후 -> [50, 105, 120, 150, 162, 168, 177, 188]\n"
     ]
    }
   ],
   "source": [
    "## 버블소트 개선함수\n",
    "def sortBubbleA(ary):\n",
    "    n = len(ary)\n",
    "\n",
    "    for end in range(n-1, 0, -1):\n",
    "        changYN = False\n",
    "        # print(f'# 사이클 -> {ary}')\n",
    "        for cur in range(0, end):\n",
    "            if ary[cur] > ary[cur + 1]:\n",
    "                ary[cur], ary[cur+1] = ary[cur+1], ary[cur]\n",
    "                changYN = True\n",
    "\n",
    "        print(f'정렬 중 => {ary}')\n",
    "\n",
    "        if not changYN:\n",
    "            break\n",
    "    return ary\n",
    "\n",
    "# 전역 변수\n",
    "dataAry = [50, 105, 120, 188, 150, 162, 168, 177]\n",
    "\n",
    "print(f'정렬 전 -> {dataAry}')\n",
    "dataAry = sortBubbleA(dataAry)\n",
    "print(f'정렬 후 -> {dataAry}')"
   ]
  },
  {
   "cell_type": "markdown",
   "metadata": {},
   "source": [
    "- 다른 정렬은 데이터가 거의 정렬이 다 되어 있어도 횟수만큼 동작 $O(n^2)$\n",
    "- 버블 정렬은 데이터가 거의 정렬되어있으면 반복획수를 줄일 수 있음 $O(n)$"
   ]
  },
  {
   "cell_type": "markdown",
   "metadata": {},
   "source": [
    "#### 퀵 정렬"
   ]
  }
 ],
 "metadata": {
  "kernelspec": {
   "display_name": "3.11.9",
   "language": "python",
   "name": "python3"
  },
  "language_info": {
   "codemirror_mode": {
    "name": "ipython",
    "version": 3
   },
   "file_extension": ".py",
   "mimetype": "text/x-python",
   "name": "python",
   "nbconvert_exporter": "python",
   "pygments_lexer": "ipython3",
   "version": "3.11.9"
  }
 },
 "nbformat": 4,
 "nbformat_minor": 2
}
